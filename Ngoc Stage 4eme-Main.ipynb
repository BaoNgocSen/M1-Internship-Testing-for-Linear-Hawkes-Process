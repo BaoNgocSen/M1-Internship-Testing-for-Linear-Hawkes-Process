{
 "cells": [
  {
   "cell_type": "markdown",
   "id": "d8cb155b",
   "metadata": {},
   "source": [
    "## Simuler Hawkes processes H"
   ]
  },
  {
   "cell_type": "code",
   "execution_count": 8,
   "id": "deffe34b",
   "metadata": {},
   "outputs": [],
   "source": [
    "import numpy as np\n",
    "\n",
    "import matplotlib.pyplot as plt\n",
    "from scipy.optimize import minimize\n",
    "from hawkes_process import thinning_hawkes\n",
    "from scipy.stats import norm\n",
    "from estimate_exac import estimate_hawkes_params, hawkes_test, hawkes_test2,hawkes_test3"
   ]
  },
  {
   "cell_type": "markdown",
   "id": "e8794172",
   "metadata": {},
   "source": [
    "L'intensite conditionelle $\\lambda^*(t)= \\mu + \\int_{0}^{t}h(t-s)dHs$"
   ]
  },
  {
   "cell_type": "markdown",
   "id": "be0200a2",
   "metadata": {},
   "source": [
    "Cas exponentiel $h(t)=\\alpha e^{-\\beta t}$ \n",
    "Alors $\\lambda^*(t)= \\mu + \\int_{0}^{t}\\alpha  e^{-\\beta(t-s)}dHs = \\mu + \\sum_{T_i<t}\\alpha e^{-\\beta (t-T_i)}$\n",
    "\n",
    "If faut que $\\frac{\\alpha}{\\beta}<1$ pour que $\\|h\\|_1<1$"
   ]
  },
  {
   "cell_type": "code",
   "execution_count": 14,
   "id": "8f610562",
   "metadata": {
    "scrolled": false
   },
   "outputs": [
    {
     "name": "stdout",
     "output_type": "stream",
     "text": [
      "0.4277573949060414 0.6615435939312507 0.9867296163224673 11.959715356195254\n"
     ]
    }
   ],
   "source": [
    "mu=0.4\n",
    "alpha=0.7\n",
    "beta=1.0\n",
    "T=1000\n",
    "me = thinning_hawkes(mu, alpha, beta,T, kernel_type='exponential')\n",
    "e = me.simulate()\n",
    "L, mu_hat, alpha_hat, beta_hat, variance_hat = estimate_hawkes_params(e, T)\n",
    "print( mu_hat, alpha_hat, beta_hat, variance_hat )\n"
   ]
  },
  {
   "cell_type": "code",
   "execution_count": 15,
   "id": "2c3837f6",
   "metadata": {},
   "outputs": [
    {
     "name": "stdout",
     "output_type": "stream",
     "text": [
      "0.42632568817211375 0.6286523649308446 0.9157538740616037 13.874075028514877\n"
     ]
    },
    {
     "data": {
      "text/plain": [
       "0"
      ]
     },
     "execution_count": 15,
     "metadata": {},
     "output_type": "execute_result"
    }
   ],
   "source": [
    "time_threshold_1 = T / 3\n",
    "time_threshold_2 = 2 * T / 3\n",
    "idx1 = 0\n",
    "while idx1 < len(e) and e[idx1] < time_threshold_1:\n",
    "    idx1 += 1\n",
    "    idx2 = idx1\n",
    "while idx2 < len(e) and e[idx2] < time_threshold_2:\n",
    "    idx2 += 1\n",
    "list1e = e[0:idx1]\n",
    "list2e = e[idx1:idx2]\n",
    "list3e = np.array(e[idx2:])-2/3*T\n",
    "\n",
    "L, mu_hat, alpha_hat, beta_hat, variance_hat = estimate_hawkes_params(list3e, T/3)\n",
    "\n",
    "print( mu_hat, alpha_hat, beta_hat, variance_hat )\n",
    "hawkes_test3(len(list1e), T/3, mu_hat, alpha_hat, beta_hat, variance_hat, alpha_level=0.05)"
   ]
  },
  {
   "cell_type": "code",
   "execution_count": null,
   "id": "e84be423",
   "metadata": {},
   "outputs": [],
   "source": []
  },
  {
   "cell_type": "markdown",
   "id": "a3e5cabd",
   "metadata": {},
   "source": [
    " Gaussian kernel\n",
    "$\n",
    "\\lambda(u)\n",
    "= \\alpha \\exp\\!\\left(-\\frac{u^{2}}{2\\beta^{2}}\\right)\\,\\mathbf{1}_{\\{u \\ge 0\\}}.\n",
    "$\n",
    "\n",
    "Conditional intensity\n",
    "$\n",
    "\\lambda^{\\ast}(t)\n",
    "= \\mu \\;+\\; \\sum_{T_i < t} \\lambda(t - T_i)\n",
    "= \\mu \\;+\\; \\alpha \\sum_{T_i < t}\n",
    "\\exp\\!\\left(-\\frac{(t - T_i)^{2}}{2\\beta^{2}}\\right).\n",
    "$"
   ]
  },
  {
   "cell_type": "code",
   "execution_count": 4,
   "id": "05eae5fa",
   "metadata": {},
   "outputs": [
    {
     "name": "stdout",
     "output_type": "stream",
     "text": [
      "0.4474737002278917 1.0202732858504278 1.17824291691613 188.68159230821024\n"
     ]
    }
   ],
   "source": [
    "mu=0.4\n",
    "alpha=0.7\n",
    "beta=1.0\n",
    "T=1800\n",
    "me = thinning_hawkes(mu, alpha, beta, T, kernel_type='gaussien')\n",
    "e = me.simulate()\n",
    "time_threshold_1 = T / 3\n",
    "time_threshold_2 = 2 * T / 3\n",
    "idx1 = 0\n",
    "while idx1 < len(e) and e[idx1] < time_threshold_1:\n",
    "    idx1 += 1\n",
    "    idx2 = idx1\n",
    "while idx2 < len(e) and e[idx2] < time_threshold_2:\n",
    "    idx2 += 1\n",
    "list1e = e[0:idx1]\n",
    "list2e = e[idx1:idx2]\n",
    "list3e = np.array(e[idx2:])-2/3*T\n",
    "\n",
    "L, mu_hat, alpha_hat, beta_hat, variance_hat = estimate_hawkes_params(list3e, T/3)\n",
    "hawkes_test3(len(list1e), T/3, mu_hat, alpha_hat, beta_hat, variance_hat, alpha_level=0.05)\n",
    "print( mu_hat, alpha_hat, beta_hat, variance_hat )"
   ]
  },
  {
   "cell_type": "markdown",
   "id": "36f51dae",
   "metadata": {},
   "source": [
    "$$\n",
    "\\lambda(t) = \\mu + \\alpha\\,N_{\\text{active}}(t)\n",
    "$$\n",
    "with\n",
    "$$\n",
    "N_{\\text{active}}(t) = \\#\\left\\{\\, k \\;:\\; 0 \\le t - t_k < \\beta \\,\\right\\}.\n",
    "$$\n"
   ]
  },
  {
   "cell_type": "code",
   "execution_count": 2,
   "id": "02054b15",
   "metadata": {},
   "outputs": [
    {
     "name": "stdout",
     "output_type": "stream",
     "text": [
      "0.9433098986259842 0.6723833700622303 0.9539372517948121 36.848545910412454\n"
     ]
    }
   ],
   "source": [
    "mu=0.4\n",
    "alpha=0.7\n",
    "beta=1.0\n",
    "T=1800\n",
    "me = thinning_hawkes(mu, alpha, beta, T, kernel_type='box')\n",
    "e = me.simulate()\n",
    "time_threshold_1 = T / 3\n",
    "time_threshold_2 = 2 * T / 3\n",
    "idx1 = 0\n",
    "while idx1 < len(e) and e[idx1] < time_threshold_1:\n",
    "    idx1 += 1\n",
    "    idx2 = idx1\n",
    "while idx2 < len(e) and e[idx2] < time_threshold_2:\n",
    "    idx2 += 1\n",
    "list1e = e[0:idx1]\n",
    "list2e = e[idx1:idx2]\n",
    "list3e = np.array(e[idx2:])-2/3*T\n",
    "\n",
    "L, mu_hat, alpha_hat, beta_hat, variance_hat = estimate_hawkes_params(list1e, T/3)\n",
    "hawkes_test3(len(list3e), T/3, mu_hat, alpha_hat, beta_hat, variance_hat, alpha_level=0.05)\n",
    "print( mu_hat, alpha_hat, beta_hat, variance_hat )"
   ]
  },
  {
   "cell_type": "code",
   "execution_count": 3,
   "id": "8c7ea82e",
   "metadata": {},
   "outputs": [
    {
     "name": "stdout",
     "output_type": "stream",
     "text": [
      "0.886985480381476 0.7524001564826346 1.042249992881375 41.27562053243501\n"
     ]
    }
   ],
   "source": [
    "mu=0.4\n",
    "alpha=0.7\n",
    "beta=1.0\n",
    "T=1800\n",
    "me = thinning_hawkes(mu, alpha, beta, T, kernel_type='box')\n",
    "e = me.simulate()\n",
    "time_threshold_1 = T / 3\n",
    "time_threshold_2 = 2 * T / 3\n",
    "idx1 = 0\n",
    "while idx1 < len(e) and e[idx1] < time_threshold_1:\n",
    "    idx1 += 1\n",
    "    idx2 = idx1\n",
    "while idx2 < len(e) and e[idx2] < time_threshold_2:\n",
    "    idx2 += 1\n",
    "list1e = e[0:idx1]\n",
    "list2e = e[idx1:idx2]\n",
    "list3e = np.array(e[idx2:])-2/3*T\n",
    "\n",
    "L, mu_hat, alpha_hat, beta_hat, variance_hat = estimate_hawkes_params(list3e, T/3)\n",
    "hawkes_test3(len(list1e), T/3, mu_hat, alpha_hat, beta_hat, variance_hat, alpha_level=0.05)\n",
    "print( mu_hat, alpha_hat, beta_hat, variance_hat )"
   ]
  },
  {
   "cell_type": "markdown",
   "id": "7684be18",
   "metadata": {},
   "source": [
    "Teste 1: Test for a Hawkes process with parameter fixed \n",
    "\n",
    "$\\mathcal{H}_0$: $H_t$ is a Hawkes process with exponential kernel of parameter $\\theta = (\\mu, \\alpha, \\beta)$.\n",
    "\n",
    "$\\mathcal{H}_1$: $H_t$ is not a Hawkes process with exponential kernel of parameter $\\theta = (\\mu, \\alpha, \\beta)$."
   ]
  },
  {
   "cell_type": "code",
   "execution_count": 18,
   "id": "f0bee9d6",
   "metadata": {},
   "outputs": [],
   "source": [
    "T = 600\n",
    "mu = 0.4\n",
    "alpha = 0.7\n",
    "beta = 1\n",
    "l1=0\n",
    "\n",
    "\n",
    "for i in range(1000):\n",
    "    m = thinning_hawkes(mu, alpha, beta, T, kernel_type='exponential')\n",
    "    events = m.simulate()\n",
    "    if hawkes_test(len(events), T, mu, alpha, beta, alpha_level=0.05)==1:\n",
    "        l1+=1\n"
   ]
  },
  {
   "cell_type": "code",
   "execution_count": 19,
   "id": "893ec890",
   "metadata": {},
   "outputs": [
    {
     "name": "stdout",
     "output_type": "stream",
     "text": [
      "0.052\n"
     ]
    }
   ],
   "source": [
    "print(l1/1000)"
   ]
  },
  {
   "cell_type": "code",
   "execution_count": 21,
   "id": "2a10f6d7",
   "metadata": {},
   "outputs": [],
   "source": [
    "T = 600\n",
    "mu = 0.4\n",
    "alpha = 0.7\n",
    "beta = 1\n",
    "l1=0\n",
    "\n",
    "\n",
    "for i in range(1000):\n",
    "    m = thinning_hawkes(mu, alpha, beta, T, kernel_type='box')\n",
    "    events = m.simulate()\n",
    "    if hawkes_test(len(events), T, mu, alpha, beta, alpha_level=0.05)==1:\n",
    "        l1+=1"
   ]
  },
  {
   "cell_type": "code",
   "execution_count": 22,
   "id": "d2e22026",
   "metadata": {},
   "outputs": [
    {
     "name": "stdout",
     "output_type": "stream",
     "text": [
      "1.0\n"
     ]
    }
   ],
   "source": [
    "print(l1/1000)"
   ]
  },
  {
   "cell_type": "markdown",
   "id": "f445529c",
   "metadata": {},
   "source": [
    "Teste 2"
   ]
  },
  {
   "cell_type": "code",
   "execution_count": 23,
   "id": "d87bde4e",
   "metadata": {},
   "outputs": [],
   "source": [
    "T = 600\n",
    "mu = 0.4\n",
    "alpha = 0.7\n",
    "beta = 1\n",
    "Expo_events = []\n",
    "Espe_hat = []\n",
    "mu_ = []\n",
    "a_=[]\n",
    "b_=[]\n",
    "Var2 = []\n",
    "l2=0\n",
    "Realite = mu / (1 - alpha / beta)\n",
    "\n",
    "for i in range(1000):\n",
    "    m = thinning_hawkes(mu, alpha, beta, T, kernel_type='exponential')\n",
    "    events = m.simulate()\n",
    "\n",
    "    L, mu_hat, alpha_hat, beta_hat, variance_hat = estimate_hawkes_params(events, T)\n",
    "    X = mu_hat / (1 - alpha_hat / beta_hat)\n",
    "    \n",
    "    if hawkes_test2(T,Realite, X,variance_hat, alpha_level=0.05)==1:\n",
    "        l2+=1"
   ]
  },
  {
   "cell_type": "code",
   "execution_count": 25,
   "id": "03ddddb8",
   "metadata": {},
   "outputs": [
    {
     "name": "stdout",
     "output_type": "stream",
     "text": [
      "0.059\n"
     ]
    }
   ],
   "source": [
    "print(l2/1000)"
   ]
  },
  {
   "cell_type": "code",
   "execution_count": 26,
   "id": "808cc8b8",
   "metadata": {},
   "outputs": [],
   "source": [
    "T = 600\n",
    "mu = 0.4\n",
    "alpha = 0.7\n",
    "beta = 1\n",
    "l2=0\n",
    "\n",
    "\n",
    "for i in range(1000):\n",
    "    m = thinning_hawkes(mu, alpha, beta, T, kernel_type='box')\n",
    "    events = m.simulate()\n",
    "    if hawkes_test(len(events), T, mu, alpha, beta, alpha_level=0.05)==1:\n",
    "        l2+=1"
   ]
  },
  {
   "cell_type": "code",
   "execution_count": 27,
   "id": "318722a1",
   "metadata": {},
   "outputs": [
    {
     "name": "stdout",
     "output_type": "stream",
     "text": [
      "1.0\n"
     ]
    }
   ],
   "source": [
    "print(l2/1000)"
   ]
  },
  {
   "cell_type": "markdown",
   "id": "df15feb9",
   "metadata": {},
   "source": [
    "Teste 3"
   ]
  },
  {
   "cell_type": "code",
   "execution_count": 28,
   "id": "c17ef565",
   "metadata": {},
   "outputs": [],
   "source": [
    "T = 600\n",
    "mu = 0.4\n",
    "alpha = 0.7\n",
    "beta = 1\n",
    "Expo_events = []\n",
    "Espe_hat = []\n",
    "mu_ = []\n",
    "a_=[]\n",
    "b_=[]\n",
    "Var2 = []\n",
    "l=0\n",
    "lambda_bar = mu / (1 - alpha / beta)\n",
    "\n",
    "for i in range(1000):\n",
    "    m = thinning_hawkes(mu, alpha, beta, T, kernel_type='exponential')\n",
    "    events = m.simulate()\n",
    "    time_threshold_1 = T / 3\n",
    "    time_threshold_2 = 2 * T / 3\n",
    "    idx1 = 0\n",
    "    while idx1 < len(events) and events[idx1] < time_threshold_1:\n",
    "        idx1 += 1\n",
    "    idx2 = idx1\n",
    "    while idx2 < len(events) and events[idx2] < time_threshold_2:\n",
    "        idx2 += 1\n",
    "    list1 = events[0:idx1]\n",
    "    list2 = events[idx1:idx2]\n",
    "    list3 = np.array(events[idx2:])-2/3*T\n",
    "\n",
    "    Expo_events.append(len(list1))\n",
    "    L, mu_hat, alpha_hat, beta_hat, variance_hat = estimate_hawkes_params(list3, T/3)\n",
    "    X = mu_hat / (1 - alpha_hat / beta_hat)\n",
    "    Espe_hat.append(X)\n",
    "    mu_.append( mu_hat)\n",
    "    a_.append(alpha_hat)\n",
    "    b_.append( beta_hat)\n",
    "    Var2.append(variance_hat)\n",
    "    \n",
    "    if hawkes_test3(len(list1), T/3, mu_hat, alpha_hat, beta_hat, variance_hat, alpha_level=0.05)==1:\n",
    "        l+=1"
   ]
  },
  {
   "cell_type": "code",
   "execution_count": 29,
   "id": "3e7db830",
   "metadata": {},
   "outputs": [
    {
     "name": "stderr",
     "output_type": "stream",
     "text": [
      "No artists with labels found to put in legend.  Note that artists whose label start with an underscore are ignored when legend() is called with no argument.\n"
     ]
    },
    {
     "name": "stdout",
     "output_type": "stream",
     "text": [
      "0.079\n"
     ]
    },
    {
     "data": {
      "image/png": "[encoded data removed]",
      "text/plain": [
       "<Figure size 600x400 with 1 Axes>"
      ]
     },
     "metadata": {},
     "output_type": "display_data"
    }
   ],
   "source": [
    "print(l/1000)\n",
    "Tx=T/3\n",
    "\n",
    "normalized3 =  ((np.array(Expo_events))/Tx -np.array(Espe_hat)) * np.sqrt(Tx)/np.sqrt(np.array(Var2)+mu / (1 - alpha/beta)**3)\n",
    "plt.figure(figsize=(6,4))\n",
    "count, bins, patches = plt.hist(\n",
    "    normalized3,\n",
    "    bins=30,\n",
    "    density=True,     \n",
    "    alpha=0.6,\n",
    "    edgecolor='k',\n",
    "\n",
    ")\n",
    "\n",
    "x = np.linspace(bins.min(), bins.max(), 200)\n",
    "pdf = (1/np.sqrt(2*np.pi)) * np.exp(-x**2/2)\n",
    "plt.plot(x, pdf, 'r-')\n",
    "\n",
    "plt.legend()\n",
    "plt.grid(True)\n",
    "plt.show()"
   ]
  },
  {
   "cell_type": "code",
   "execution_count": 31,
   "id": "d252c6c2",
   "metadata": {},
   "outputs": [],
   "source": [
    "T = 600\n",
    "mu = 0.4\n",
    "alpha = 0.7\n",
    "beta = 1\n",
    "Expo_events = []\n",
    "Espe_hat = []\n",
    "mu_ = []\n",
    "a_=[]\n",
    "b_=[]\n",
    "Var2 = []\n",
    "l=0\n",
    "lambda_bar = mu / (1 - alpha / beta)\n",
    "\n",
    "for i in range(1000):\n",
    "    m = thinning_hawkes(mu, alpha, beta, T, kernel_type='box')\n",
    "    events = m.simulate()\n",
    "    time_threshold_1 = T / 3\n",
    "    time_threshold_2 = 2 * T / 3\n",
    "    idx1 = 0\n",
    "    while idx1 < len(events) and events[idx1] < time_threshold_1:\n",
    "        idx1 += 1\n",
    "    idx2 = idx1\n",
    "    while idx2 < len(events) and events[idx2] < time_threshold_2:\n",
    "        idx2 += 1\n",
    "    list1 = events[0:idx1]\n",
    "    list2 = events[idx1:idx2]\n",
    "    list3 = np.array(events[idx2:])-2/3*T\n",
    "\n",
    "    Expo_events.append(len(list1))\n",
    "    L, mu_hat, alpha_hat, beta_hat, variance_hat = estimate_hawkes_params(list3, T/3)\n",
    "    X = mu_hat / (1 - alpha_hat / beta_hat)\n",
    "    Espe_hat.append(X)\n",
    "    mu_.append( mu_hat)\n",
    "    a_.append(alpha_hat)\n",
    "    b_.append( beta_hat)\n",
    "    Var2.append(variance_hat)\n",
    "    \n",
    "    if hawkes_test3(len(list1), T/3, mu_hat, alpha_hat, beta_hat, variance_hat, alpha_level=0.05)==1:\n",
    "        l+=1"
   ]
  },
  {
   "cell_type": "code",
   "execution_count": 32,
   "id": "496daee9",
   "metadata": {},
   "outputs": [
    {
     "name": "stdout",
     "output_type": "stream",
     "text": [
      "55\n"
     ]
    }
   ],
   "source": [
    "print(l)"
   ]
  },
  {
   "cell_type": "code",
   "execution_count": null,
   "id": "4533e5f2",
   "metadata": {},
   "outputs": [],
   "source": []
  }
 ],
 "metadata": {
  "kernelspec": {
   "display_name": "Python 3 (ipykernel)",
   "language": "python",
   "name": "python3"
  },
  "language_info": {
   "codemirror_mode": {
    "name": "ipython",
    "version": 3
   },
   "file_extension": ".py",
   "mimetype": "text/x-python",
   "name": "python",
   "nbconvert_exporter": "python",
   "pygments_lexer": "ipython3",
   "version": "3.11.7"
  }
 },
 "nbformat": 4,
 "nbformat_minor": 5
}
